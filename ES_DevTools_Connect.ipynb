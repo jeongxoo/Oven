{
 "cells": [
  {
   "cell_type": "code",
   "execution_count": 1,
   "metadata": {},
   "outputs": [
    {
     "name": "stdout",
     "output_type": "stream",
     "text": [
      "Collecting elasticsearch\n",
      "  Downloading elasticsearch-7.13.4-py2.py3-none-any.whl (356 kB)\n",
      "\u001b[K     |████████████████████████████████| 356 kB 1.1 MB/s eta 0:00:01\n",
      "\u001b[?25hRequirement already satisfied: urllib3<2,>=1.21.1 in /Users/jeongxoo/opt/anaconda3/lib/python3.8/site-packages (from elasticsearch) (1.25.11)\n",
      "Requirement already satisfied: certifi in /Users/jeongxoo/opt/anaconda3/lib/python3.8/site-packages (from elasticsearch) (2020.6.20)\n",
      "Installing collected packages: elasticsearch\n",
      "Successfully installed elasticsearch-7.13.4\n",
      "Note: you may need to restart the kernel to use updated packages.\n"
     ]
    }
   ],
   "source": [
    "pip install elasticsearch"
   ]
  },
  {
   "cell_type": "code",
   "execution_count": 1,
   "metadata": {},
   "outputs": [],
   "source": [
    "from elasticsearch import Elasticsearch, helpers\n",
    "import configparser"
   ]
  },
  {
   "cell_type": "code",
   "execution_count": 2,
   "metadata": {},
   "outputs": [],
   "source": [
    "cloud = \"***********\"\n",
    "ids = \"***********\"\n",
    "password = \"***********\"\n",
    "\n",
    "es = Elasticsearch(\n",
    "    cloud_id = cloud,\n",
    "    http_auth = (ids, password)\n",
    ")"
   ]
  },
  {
   "cell_type": "code",
   "execution_count": 35,
   "metadata": {},
   "outputs": [
    {
     "data": {
      "text/plain": [
       "{'took': 0,\n",
       " 'timed_out': False,\n",
       " '_shards': {'total': 1, 'successful': 1, 'skipped': 0, 'failed': 0},\n",
       " 'hits': {'total': {'value': 1, 'relation': 'eq'},\n",
       "  'max_score': 5.84451,\n",
       "  'hits': [{'_index': 'oven_combi_one_0724',\n",
       "    '_type': '_doc',\n",
       "    '_id': '2HHc1noB5wRtzjLTD-O8',\n",
       "    '_score': 5.84451,\n",
       "    '_source': {'WIN_CNT': 122,\n",
       "     'COMBI_INFO': ' 다크초코맛쿠키 라떼맛쿠키 에스프레소맛쿠키 퓨어바닐라쿠키 뱀파이어맛쿠키',\n",
       "     'COMBI_ONE': 13,\n",
       "     'LOOSE_CNT': 111,\n",
       "     'ALL_CNT': 233,\n",
       "     'COMBI_FIVE': 35,\n",
       "     'COMBI_TWO': 39,\n",
       "     'path': '/Users/jeongxoo/ELK/ls-713/data_set/combi_one_df_with_name_0724.csv',\n",
       "     'COMBINATION_KEY': 'combi1',\n",
       "     'COMBI_THREE': 37,\n",
       "     '@timestamp': '2021-07-24T04:53:02.880Z',\n",
       "     'COMBI_FOUR': 43,\n",
       "     '@version': '1'}}]}}"
      ]
     },
     "execution_count": 35,
     "metadata": {},
     "output_type": "execute_result"
    }
   ],
   "source": [
    "body = {\n",
    "    \"query\": {\n",
    "        \"match\": {\n",
    "            \"COMBINATION_KEY\": \"combi1\"\n",
    "        }\n",
    "    }\n",
    "}\n",
    "es.\n",
    "es.search(index = 'oven_combi_one_0724', body = body)"
   ]
  },
  {
   "cell_type": "code",
   "execution_count": 38,
   "metadata": {},
   "outputs": [],
   "source": [
    "body = {\n",
    "    \"size\": 0,\n",
    "    \"aggs\": {\n",
    "        \"sum_all\": {\n",
    "            \"sum\": {\n",
    "                \"field\": \"ALL_CNT\"\n",
    "            }\n",
    "        }\n",
    "    }\n",
    "}\n",
    "res = es.search(index = 'oven_combi_one_0724', body = body)"
   ]
  },
  {
   "cell_type": "code",
   "execution_count": 39,
   "metadata": {},
   "outputs": [
    {
     "data": {
      "text/plain": [
       "{'took': 0,\n",
       " 'timed_out': False,\n",
       " '_shards': {'total': 1, 'successful': 1, 'skipped': 0, 'failed': 0},\n",
       " 'hits': {'total': {'value': 517, 'relation': 'eq'},\n",
       "  'max_score': None,\n",
       "  'hits': []},\n",
       " 'aggregations': {'sum_all': {'value': 3001.0}}}"
      ]
     },
     "execution_count": 39,
     "metadata": {},
     "output_type": "execute_result"
    }
   ],
   "source": [
    "res"
   ]
  },
  {
   "cell_type": "code",
   "execution_count": 46,
   "metadata": {},
   "outputs": [
    {
     "name": "stdout",
     "output_type": "stream",
     "text": [
      "3001.0\n"
     ]
    }
   ],
   "source": [
    "print(res[\"aggregations\"][\"sum_all\"]['value'])"
   ]
  },
  {
   "cell_type": "code",
   "execution_count": 43,
   "metadata": {},
   "outputs": [
    {
     "data": {
      "text/plain": [
       "dict"
      ]
     },
     "execution_count": 43,
     "metadata": {},
     "output_type": "execute_result"
    }
   ],
   "source": [
    "type(res)"
   ]
  },
  {
   "cell_type": "code",
   "execution_count": null,
   "metadata": {},
   "outputs": [],
   "source": []
  }
 ],
 "metadata": {
  "kernelspec": {
   "display_name": "Python 3 (ipykernel)",
   "language": "python",
   "name": "python3"
  },
  "language_info": {
   "codemirror_mode": {
    "name": "ipython",
    "version": 3
   },
   "file_extension": ".py",
   "mimetype": "text/x-python",
   "name": "python",
   "nbconvert_exporter": "python",
   "pygments_lexer": "ipython3",
   "version": "3.9.7"
  }
 },
 "nbformat": 4,
 "nbformat_minor": 4
}
